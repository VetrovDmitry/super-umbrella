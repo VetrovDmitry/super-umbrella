{
 "cells": [
  {
   "cell_type": "code",
   "execution_count": 8,
   "id": "bbc33691",
   "metadata": {},
   "outputs": [],
   "source": [
    "class Dog:\n",
    "    def __init__(self, age, name, breed):\n",
    "        self.age = age\n",
    "        self.name = name\n",
    "        self.breed = breed\n",
    "    \n",
    "    def get_info(self):\n",
    "        return self.age, self.name, self.breed\n",
    "    \n",
    "    @property\n",
    "    def info(self):\n",
    "        return self.age, self.name, self.breed\n",
    "        "
   ]
  },
  {
   "cell_type": "code",
   "execution_count": 9,
   "id": "da3e8228",
   "metadata": {},
   "outputs": [],
   "source": [
    "rex = Dog(10, 'Rex', 'Golder retriver')"
   ]
  },
  {
   "cell_type": "code",
   "execution_count": 3,
   "id": "e6c63d33",
   "metadata": {},
   "outputs": [
    {
     "data": {
      "text/plain": [
       "10"
      ]
     },
     "execution_count": 3,
     "metadata": {},
     "output_type": "execute_result"
    }
   ],
   "source": [
    "rex.age"
   ]
  },
  {
   "cell_type": "code",
   "execution_count": 4,
   "id": "f7f28dd7",
   "metadata": {},
   "outputs": [
    {
     "data": {
      "text/plain": [
       "'Rex'"
      ]
     },
     "execution_count": 4,
     "metadata": {},
     "output_type": "execute_result"
    }
   ],
   "source": [
    "rex.name"
   ]
  },
  {
   "cell_type": "code",
   "execution_count": 12,
   "id": "0868a172",
   "metadata": {},
   "outputs": [
    {
     "data": {
      "text/plain": [
       "<bound method Dog.get_info of <__main__.Dog object at 0x00000205586ACEB0>>"
      ]
     },
     "execution_count": 12,
     "metadata": {},
     "output_type": "execute_result"
    }
   ],
   "source": [
    "rex.get_info"
   ]
  },
  {
   "cell_type": "code",
   "execution_count": 11,
   "id": "720d67f3",
   "metadata": {},
   "outputs": [
    {
     "data": {
      "text/plain": [
       "(10, 'Rex', 'Golder retriver')"
      ]
     },
     "execution_count": 11,
     "metadata": {},
     "output_type": "execute_result"
    }
   ],
   "source": [
    "rex.info"
   ]
  },
  {
   "cell_type": "code",
   "execution_count": null,
   "id": "9870a291",
   "metadata": {},
   "outputs": [],
   "source": []
  }
 ],
 "metadata": {
  "kernelspec": {
   "display_name": "Python 3 (ipykernel)",
   "language": "python",
   "name": "python3"
  },
  "language_info": {
   "codemirror_mode": {
    "name": "ipython",
    "version": 3
   },
   "file_extension": ".py",
   "mimetype": "text/x-python",
   "name": "python",
   "nbconvert_exporter": "python",
   "pygments_lexer": "ipython3",
   "version": "3.9.6"
  }
 },
 "nbformat": 4,
 "nbformat_minor": 5
}
