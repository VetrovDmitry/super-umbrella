{
 "cells": [
  {
   "cell_type": "code",
   "execution_count": 5,
   "id": "edfd622a",
   "metadata": {},
   "outputs": [],
   "source": [
    "api_url = 'http://talents-shrt.herokuapp.com/api/signup'\n",
    "api_key = 'b72d32fac3fc46988175cdedb1b4bb9f'\n",
    "headers = {\n",
    "    'X-API-Key': api_key\n",
    "}\n",
    "test_user = {\n",
    "    'fullname': 'Test User1',\n",
    "    'username': 'test_user_1',\n",
    "    'sex': 'Male',\n",
    "    'birth_date': '1970-01-01',\n",
    "    'email': 'test@test.com',\n",
    "    'password': 'testtest'\n",
    "}"
   ]
  },
  {
   "cell_type": "code",
   "execution_count": 6,
   "id": "ab09a358",
   "metadata": {},
   "outputs": [],
   "source": [
    "import requests"
   ]
  },
  {
   "cell_type": "code",
   "execution_count": 11,
   "id": "131b42a6",
   "metadata": {},
   "outputs": [],
   "source": [
    "response = requests.post(api_url, headers=headers, params=test_user)"
   ]
  },
  {
   "cell_type": "code",
   "execution_count": 15,
   "id": "6b201ed9",
   "metadata": {},
   "outputs": [
    {
     "data": {
      "text/plain": [
       "201"
      ]
     },
     "execution_count": 15,
     "metadata": {},
     "output_type": "execute_result"
    }
   ],
   "source": [
    "response.status_code"
   ]
  },
  {
   "cell_type": "code",
   "execution_count": null,
   "id": "412a2edc",
   "metadata": {},
   "outputs": [],
   "source": []
  }
 ],
 "metadata": {
  "kernelspec": {
   "display_name": "Python 3 (ipykernel)",
   "language": "python",
   "name": "python3"
  },
  "language_info": {
   "codemirror_mode": {
    "name": "ipython",
    "version": 3
   },
   "file_extension": ".py",
   "mimetype": "text/x-python",
   "name": "python",
   "nbconvert_exporter": "python",
   "pygments_lexer": "ipython3",
   "version": "3.9.6"
  }
 },
 "nbformat": 4,
 "nbformat_minor": 5
}
