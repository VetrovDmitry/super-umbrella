{
 "cells": [
  {
   "cell_type": "code",
   "execution_count": 5,
   "id": "2549a3ca",
   "metadata": {},
   "outputs": [],
   "source": [
    "class Dog:\n",
    "    def __init__(self, age, name, breed):\n",
    "        self.age = age\n",
    "        self.name = name\n",
    "        self.breed = breed\n",
    "    \n",
    "    def get_info(self):\n",
    "        return self.age, self.name, self.breed\n",
    "    \n",
    "    @property\n",
    "    def info(self):\n",
    "        return self.age, self.name, self.breed\n",
    "        "
   ]
  },
  {
   "cell_type": "code",
   "execution_count": 6,
   "id": "3526d6a5",
   "metadata": {},
   "outputs": [],
   "source": [
    "rex = Dog(10, 'Rex', 'Golder retriver')"
   ]
  },
  {
   "cell_type": "code",
   "execution_count": 3,
   "id": "9a9bf0cf",
   "metadata": {},
   "outputs": [
    {
     "data": {
      "text/plain": [
       "10"
      ]
     },
     "execution_count": 3,
     "metadata": {},
     "output_type": "execute_result"
    }
   ],
   "source": [
    "rex.age"
   ]
  },
  {
   "cell_type": "code",
   "execution_count": 4,
   "id": "788f34f2",
   "metadata": {},
   "outputs": [
    {
     "data": {
      "text/plain": [
       "'Rex'"
      ]
     },
     "execution_count": 4,
     "metadata": {},
     "output_type": "execute_result"
    }
   ],
   "source": [
    "rex.name"
   ]
  },
  {
   "cell_type": "code",
   "execution_count": 7,
   "id": "6773503a",
   "metadata": {},
   "outputs": [
    {
     "data": {
      "text/plain": [
       "(10, 'Rex', 'Golder retriver')"
      ]
     },
     "execution_count": 7,
     "metadata": {},
     "output_type": "execute_result"
    }
   ],
   "source": [
    "rex.get_info()"
   ]
  },
  {
   "cell_type": "code",
   "execution_count": null,
   "id": "6d7ecf1e",
   "metadata": {},
   "outputs": [],
   "source": []
  }
 ],
 "metadata": {
  "kernelspec": {
   "display_name": "Python 3 (ipykernel)",
   "language": "python",
   "name": "python3"
  },
  "language_info": {
   "codemirror_mode": {
    "name": "ipython",
    "version": 3
   },
   "file_extension": ".py",
   "mimetype": "text/x-python",
   "name": "python",
   "nbconvert_exporter": "python",
   "pygments_lexer": "ipython3",
   "version": "3.9.6"
  }
 },
 "nbformat": 4,
 "nbformat_minor": 5
}
